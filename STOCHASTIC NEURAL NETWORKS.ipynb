{
 "cells": [
  {
   "cell_type": "code",
   "execution_count": 1,
   "metadata": {
    "collapsed": true
   },
   "outputs": [],
   "source": [
    "%matplotlib inline\n",
    "import matplotlib.pyplot as plt\n",
    "import numpy as np\n",
    "import tensorflow as tf\n",
    "import pandas as pd\n",
    "import os\n",
    "import matplotlib.pyplot as plt"
   ]
  },
  {
   "cell_type": "markdown",
   "metadata": {},
   "source": [
    "## Carregar Dataset:\n",
    "\n",
    "Esta base de dados (ml-20m) contém avaliações de filmes entre 0 a 5 estrelas e tags descrevendo o tipo de conteúdo presente no filme. Esta base contém 20000263 votos e 465564 tag aplicadas entre 27278 filmes."
   ]
  },
  {
   "cell_type": "code",
   "execution_count": 2,
   "metadata": {
    "collapsed": true
   },
   "outputs": [],
   "source": [
    "movies_df = next(pd.read_csv('ml-20m/movies.csv', sep=',', header=0, engine='python', chunksize= 50000))\n",
    "ratings_df = next(pd.read_csv('ml-20m/ratings.csv', sep=',', header=0, engine='python', chunksize= 50000))\n",
    "\n",
    "movies_df.columns = ['MovieID', 'Title', 'Genres']\n",
    "ratings_df.columns = ['UserID', 'MovieID', 'Rating', 'Timestamp']"
   ]
  },
  {
   "cell_type": "code",
   "execution_count": 3,
   "metadata": {},
   "outputs": [
    {
     "data": {
      "text/html": [
       "<div>\n",
       "<style scoped>\n",
       "    .dataframe tbody tr th:only-of-type {\n",
       "        vertical-align: middle;\n",
       "    }\n",
       "\n",
       "    .dataframe tbody tr th {\n",
       "        vertical-align: top;\n",
       "    }\n",
       "\n",
       "    .dataframe thead th {\n",
       "        text-align: right;\n",
       "    }\n",
       "</style>\n",
       "<table border=\"1\" class=\"dataframe\">\n",
       "  <thead>\n",
       "    <tr style=\"text-align: right;\">\n",
       "      <th></th>\n",
       "      <th>MovieID</th>\n",
       "      <th>Title</th>\n",
       "      <th>Genres</th>\n",
       "    </tr>\n",
       "  </thead>\n",
       "  <tbody>\n",
       "    <tr>\n",
       "      <th>0</th>\n",
       "      <td>1</td>\n",
       "      <td>Toy Story (1995)</td>\n",
       "      <td>Adventure|Animation|Children|Comedy|Fantasy</td>\n",
       "    </tr>\n",
       "    <tr>\n",
       "      <th>1</th>\n",
       "      <td>2</td>\n",
       "      <td>Jumanji (1995)</td>\n",
       "      <td>Adventure|Children|Fantasy</td>\n",
       "    </tr>\n",
       "    <tr>\n",
       "      <th>2</th>\n",
       "      <td>3</td>\n",
       "      <td>Grumpier Old Men (1995)</td>\n",
       "      <td>Comedy|Romance</td>\n",
       "    </tr>\n",
       "    <tr>\n",
       "      <th>3</th>\n",
       "      <td>4</td>\n",
       "      <td>Waiting to Exhale (1995)</td>\n",
       "      <td>Comedy|Drama|Romance</td>\n",
       "    </tr>\n",
       "    <tr>\n",
       "      <th>4</th>\n",
       "      <td>5</td>\n",
       "      <td>Father of the Bride Part II (1995)</td>\n",
       "      <td>Comedy</td>\n",
       "    </tr>\n",
       "  </tbody>\n",
       "</table>\n",
       "</div>"
      ],
      "text/plain": [
       "   MovieID                               Title  \\\n",
       "0        1                    Toy Story (1995)   \n",
       "1        2                      Jumanji (1995)   \n",
       "2        3             Grumpier Old Men (1995)   \n",
       "3        4            Waiting to Exhale (1995)   \n",
       "4        5  Father of the Bride Part II (1995)   \n",
       "\n",
       "                                        Genres  \n",
       "0  Adventure|Animation|Children|Comedy|Fantasy  \n",
       "1                   Adventure|Children|Fantasy  \n",
       "2                               Comedy|Romance  \n",
       "3                         Comedy|Drama|Romance  \n",
       "4                                       Comedy  "
      ]
     },
     "execution_count": 3,
     "metadata": {},
     "output_type": "execute_result"
    }
   ],
   "source": [
    "movies_df.head()"
   ]
  },
  {
   "cell_type": "code",
   "execution_count": 4,
   "metadata": {},
   "outputs": [
    {
     "data": {
      "text/html": [
       "<div>\n",
       "<style scoped>\n",
       "    .dataframe tbody tr th:only-of-type {\n",
       "        vertical-align: middle;\n",
       "    }\n",
       "\n",
       "    .dataframe tbody tr th {\n",
       "        vertical-align: top;\n",
       "    }\n",
       "\n",
       "    .dataframe thead th {\n",
       "        text-align: right;\n",
       "    }\n",
       "</style>\n",
       "<table border=\"1\" class=\"dataframe\">\n",
       "  <thead>\n",
       "    <tr style=\"text-align: right;\">\n",
       "      <th></th>\n",
       "      <th>UserID</th>\n",
       "      <th>MovieID</th>\n",
       "      <th>Rating</th>\n",
       "      <th>Timestamp</th>\n",
       "    </tr>\n",
       "  </thead>\n",
       "  <tbody>\n",
       "    <tr>\n",
       "      <th>0</th>\n",
       "      <td>1</td>\n",
       "      <td>2</td>\n",
       "      <td>3.5</td>\n",
       "      <td>1112486027</td>\n",
       "    </tr>\n",
       "    <tr>\n",
       "      <th>1</th>\n",
       "      <td>1</td>\n",
       "      <td>29</td>\n",
       "      <td>3.5</td>\n",
       "      <td>1112484676</td>\n",
       "    </tr>\n",
       "    <tr>\n",
       "      <th>2</th>\n",
       "      <td>1</td>\n",
       "      <td>32</td>\n",
       "      <td>3.5</td>\n",
       "      <td>1112484819</td>\n",
       "    </tr>\n",
       "    <tr>\n",
       "      <th>3</th>\n",
       "      <td>1</td>\n",
       "      <td>47</td>\n",
       "      <td>3.5</td>\n",
       "      <td>1112484727</td>\n",
       "    </tr>\n",
       "    <tr>\n",
       "      <th>4</th>\n",
       "      <td>1</td>\n",
       "      <td>50</td>\n",
       "      <td>3.5</td>\n",
       "      <td>1112484580</td>\n",
       "    </tr>\n",
       "  </tbody>\n",
       "</table>\n",
       "</div>"
      ],
      "text/plain": [
       "   UserID  MovieID  Rating   Timestamp\n",
       "0       1        2     3.5  1112486027\n",
       "1       1       29     3.5  1112484676\n",
       "2       1       32     3.5  1112484819\n",
       "3       1       47     3.5  1112484727\n",
       "4       1       50     3.5  1112484580"
      ]
     },
     "execution_count": 4,
     "metadata": {},
     "output_type": "execute_result"
    }
   ],
   "source": [
    "ratings_df.head()"
   ]
  },
  {
   "cell_type": "markdown",
   "metadata": {},
   "source": [
    "## Preparar base de dados:\n",
    "\n",
    "- Vamos adicionar uma coluna em **movies_df** informando o seu index na lista de filme.\n",
    "- Fazer um join entre a matriz de avaliações criando uma tripa do tipo **(filme, usuário e nota)**.\n",
    "- Remover as colunas restantes.\n",
    "- Para cada usuário, iremos criar um vetor armazenando a nota do usuário para cada filme e o valor 0 para os filmes não avaliados."
   ]
  },
  {
   "cell_type": "code",
   "execution_count": 5,
   "metadata": {},
   "outputs": [
    {
     "data": {
      "text/html": [
       "<div>\n",
       "<style scoped>\n",
       "    .dataframe tbody tr th:only-of-type {\n",
       "        vertical-align: middle;\n",
       "    }\n",
       "\n",
       "    .dataframe tbody tr th {\n",
       "        vertical-align: top;\n",
       "    }\n",
       "\n",
       "    .dataframe thead th {\n",
       "        text-align: right;\n",
       "    }\n",
       "</style>\n",
       "<table border=\"1\" class=\"dataframe\">\n",
       "  <thead>\n",
       "    <tr style=\"text-align: right;\">\n",
       "      <th></th>\n",
       "      <th>MovieID</th>\n",
       "      <th>List Index</th>\n",
       "      <th>UserID</th>\n",
       "      <th>Rating</th>\n",
       "    </tr>\n",
       "  </thead>\n",
       "  <tbody>\n",
       "    <tr>\n",
       "      <th>0</th>\n",
       "      <td>1</td>\n",
       "      <td>0</td>\n",
       "      <td>3</td>\n",
       "      <td>4.0</td>\n",
       "    </tr>\n",
       "    <tr>\n",
       "      <th>1</th>\n",
       "      <td>1</td>\n",
       "      <td>0</td>\n",
       "      <td>6</td>\n",
       "      <td>5.0</td>\n",
       "    </tr>\n",
       "    <tr>\n",
       "      <th>2</th>\n",
       "      <td>1</td>\n",
       "      <td>0</td>\n",
       "      <td>8</td>\n",
       "      <td>4.0</td>\n",
       "    </tr>\n",
       "    <tr>\n",
       "      <th>3</th>\n",
       "      <td>1</td>\n",
       "      <td>0</td>\n",
       "      <td>10</td>\n",
       "      <td>4.0</td>\n",
       "    </tr>\n",
       "    <tr>\n",
       "      <th>4</th>\n",
       "      <td>1</td>\n",
       "      <td>0</td>\n",
       "      <td>11</td>\n",
       "      <td>4.5</td>\n",
       "    </tr>\n",
       "  </tbody>\n",
       "</table>\n",
       "</div>"
      ],
      "text/plain": [
       "   MovieID  List Index  UserID  Rating\n",
       "0        1           0       3     4.0\n",
       "1        1           0       6     5.0\n",
       "2        1           0       8     4.0\n",
       "3        1           0      10     4.0\n",
       "4        1           0      11     4.5"
      ]
     },
     "execution_count": 5,
     "metadata": {},
     "output_type": "execute_result"
    }
   ],
   "source": [
    "movies_df['List Index'] = movies_df.index\n",
    "merged_df = movies_df.merge(ratings_df, on='MovieID')\n",
    "merged_df = merged_df.drop('Timestamp', axis=1).drop('Title', axis=1).drop('Genres', axis=1)\n",
    "merged_df.head()"
   ]
  },
  {
   "cell_type": "code",
   "execution_count": 6,
   "metadata": {
    "collapsed": true
   },
   "outputs": [],
   "source": [
    "user_Group = merged_df.groupby('UserID')"
   ]
  },
  {
   "cell_type": "code",
   "execution_count": 7,
   "metadata": {
    "collapsed": true
   },
   "outputs": [],
   "source": [
    "amountOfUsedUsers = 1000\n",
    "trX = []"
   ]
  },
  {
   "cell_type": "code",
   "execution_count": 8,
   "metadata": {
    "collapsed": true
   },
   "outputs": [],
   "source": [
    "for userID, curUser in user_Group:\n",
    "    temp = [0]*len(movies_df)\n",
    "    \n",
    "    for num, movie in curUser.iterrows():\n",
    "        temp[int(movie['List Index'])] = movie['Rating']/5.0\n",
    "    \n",
    "    trX.append(temp)\n",
    "    if amountOfUsedUsers == 0:\n",
    "        break\n",
    "    amountOfUsedUsers -= 1"
   ]
  },
  {
   "attachments": {},
   "cell_type": "markdown",
   "metadata": {},
   "source": [
    "## Criar modelo:\n",
    "\n",
    "Utilizaremos a lib do **tensorflow** para desenvolver um modelo chamado RBM (Restricted Bolzmann Machine) para aplicar a ideia de filtro colaborativo.\n",
    "\n",
    "![rbm.png](rbm.png)"
   ]
  },
  {
   "cell_type": "markdown",
   "metadata": {},
   "source": [
    "### Parâmetros:\n",
    "\n",
    "- vb: Bias da camada visível.\n",
    "- hb: Bias da camada escondida.\n",
    "- W: pesos das conexões entre as unidades escondídas e as visíveis.\n",
    "- v0: Input do modelo que consiste num vetor com as avaliações de cada filme."
   ]
  },
  {
   "cell_type": "code",
   "execution_count": 9,
   "metadata": {
    "collapsed": true
   },
   "outputs": [],
   "source": [
    "visibleUnits = len(movies_df)\n",
    "hiddenUnits = 50\n",
    "vb = tf.placeholder(tf.float32, [visibleUnits])\n",
    "hb = tf.placeholder(tf.float32, [hiddenUnits])\n",
    "W = tf.placeholder(tf.float32, [visibleUnits, hiddenUnits])\n",
    "v0 = tf.placeholder(\"float\", [None, visibleUnits])"
   ]
  },
  {
   "attachments": {},
   "cell_type": "markdown",
   "metadata": {},
   "source": [
    "![steps.png](steps.png)"
   ]
  },
  {
   "attachments": {},
   "cell_type": "markdown",
   "metadata": {},
   "source": [
    "## Propagação para frente (forward propagation)\n",
    "\n",
    "Inicializaremos **v0** com o vetor de avaliações de usuários obtido anteriormente **(trX)**.\n",
    "\n",
    "Neste tipo de modelo, a propagação é um pouco diferente. Por ser um modelo estocástico, utilizamos parte dos dados para treinar, ou seja, o usuário não avaliou todos os filmes o que nos dá um vetor input incompleto. Então, utilizaremos um método chamado **Gibbs sampling** para reconstruir o input com todas as avaliações e metrificar a reconstrução para treinar o modelo.\n",
    "\n",
    "![gibbs.png](gibbs.png)"
   ]
  },
  {
   "cell_type": "markdown",
   "metadata": {},
   "source": [
    "### Propagação de $v^{(0)}$ para $h^{(0)}$:\n",
    "\n",
    "$\n",
    "    h^{(0)}=Sigm( \\sigma(v^{(0)}*W + hb) )\n",
    "$\n",
    "\n",
    "Utilizaremos a função de ativação **Relu**. A propagação nos dará um vetor de 0's e 1's onde camada escondida é responsável por captar as características presentes no filme, ou seja, cada dimensão do vetor **h0** representa uma característica e caso o filme tenha esta característica será marcado pelo valor 1 caso contrário 0."
   ]
  },
  {
   "cell_type": "code",
   "execution_count": 10,
   "metadata": {
    "collapsed": true
   },
   "outputs": [],
   "source": [
    "# v0 -> h0\n",
    "_h0 = tf.nn.sigmoid(tf.matmul(v0, W) + hb)\n",
    "h0 = tf.nn.relu(tf.sign(_h0 - tf.random_uniform(tf.shape(_h0))))"
   ]
  },
  {
   "cell_type": "markdown",
   "metadata": {},
   "source": [
    "### Reconstrução do input $v^{(1)}$ a partir de $h^{(0)}$:\n",
    "\n",
    "$\n",
    "    v^{(1)} = Sigm(\\sigma(h^{(0)}*W^{t} + vb))\n",
    "$\n",
    "\n",
    "Durante o treinamento **W** aprenderá as relações entre cada item(filme) e cada feature da camada escondida. Então ao fazer a propagação no sentido inverso, teremos valores maiores nos filmes que tem relação com as features ativadas em $h^{(0)}$."
   ]
  },
  {
   "cell_type": "code",
   "execution_count": 11,
   "metadata": {
    "collapsed": true
   },
   "outputs": [],
   "source": [
    "# h0 -> h1\n",
    "_v1 = tf.nn.sigmoid(tf.matmul(h0, tf.transpose(W)) + vb)\n",
    "v1 = tf.nn.relu(tf.sign(_v1 - tf.random_uniform(tf.shape(_v1))))"
   ]
  },
  {
   "cell_type": "markdown",
   "metadata": {},
   "source": [
    "### Propagação de $v^{(1)}$ para $h^{(1)}$ :\n",
    "\n",
    "Com os novos itens ativos no processo de reconstrução, iremos recriar o vetor de características para analisar se houve mudança nas características ativadas."
   ]
  },
  {
   "cell_type": "code",
   "execution_count": 12,
   "metadata": {
    "collapsed": true
   },
   "outputs": [],
   "source": [
    "# v1 -> h1\n",
    "h1 = tf.nn.sigmoid(tf.matmul(v1, W) + hb)"
   ]
  },
  {
   "cell_type": "markdown",
   "metadata": {},
   "source": [
    "## Atualização dos parâmetros:\n",
    "\n",
    "$\n",
    "\\Delta W = v^{(0)}*(h^{(0)})^{t} - v^{(1)}*(h^{(1)})^{t}\n",
    "$\n",
    "\n",
    "$\n",
    "\\Delta vb = v^{(0)} - v^{(1)}\n",
    "$\n",
    "\n",
    "$\n",
    "\\Delta hb = h^{(0)} - h^{(1)}\n",
    "$\n",
    "\n",
    "\n",
    "\n",
    "\n",
    "$\n",
    "W = W - \\alpha*\\Delta W\n",
    "$\n",
    "\n",
    "$\n",
    "vb = vb - \\alpha*\\Delta vb\n",
    "$\n",
    "\n",
    "$\n",
    "hb = hb - \\alpha*\\Delta hb\n",
    "$\n",
    "\n",
    "Obs: percebe-se que no código abaixo, é multiplicado um valor além de alpha no gradiente. Isso é feito para manter as grandezas equivalentes visto que utilizamos apenas os viés para  atualizar os pesos. "
   ]
  },
  {
   "cell_type": "code",
   "execution_count": 13,
   "metadata": {
    "collapsed": true
   },
   "outputs": [],
   "source": [
    "alpha = 1.0\n",
    "\n",
    "# Obter os gradientes\n",
    "w_pos_grad = tf.matmul(tf.transpose(v0), h0)\n",
    "w_neg_grad = tf.matmul(tf.transpose(v1), h1)\n",
    "\n",
    "# Contrastive Divergence para maximizar\n",
    "CD = (w_pos_grad - w_neg_grad) / tf.to_float(tf.shape(v0)[0])\n",
    "\n",
    "# Atualizar parâmetros\n",
    "update_w = W + alpha * CD\n",
    "update_vb = vb + alpha * tf.reduce_mean(v0 - v1, 0)\n",
    "update_hb = hb + alpha * tf.reduce_mean(h0 - h1, 0)\n",
    "\n",
    "# Erro médio absoluto\n",
    "err = v0 - v1\n",
    "err_sum = tf.reduce_mean(err*err)"
   ]
  },
  {
   "cell_type": "markdown",
   "metadata": {},
   "source": [
    "## Inicializar treinamento:\n",
    "\n",
    "Inicializar todos os parâmetros com zero.\n",
    "- 15 épocas\n",
    "- 100 usuários por batche"
   ]
  },
  {
   "cell_type": "code",
   "execution_count": 14,
   "metadata": {
    "collapsed": true
   },
   "outputs": [],
   "source": [
    "cur_w = np.zeros([visibleUnits, hiddenUnits], np.float32)\n",
    "cur_vb = np.zeros([visibleUnits], np.float32)\n",
    "cur_hb = np.zeros([hiddenUnits], np.float32)\n",
    "\n",
    "prv_w = np.zeros([visibleUnits, hiddenUnits], np.float32)\n",
    "prv_vb = np.zeros([visibleUnits], np.float32)\n",
    "prv_hb = np.zeros([hiddenUnits], np.float32)\n",
    "\n",
    "sess = tf.Session()\n",
    "sess.run(tf.global_variables_initializer())"
   ]
  },
  {
   "cell_type": "code",
   "execution_count": 15,
   "metadata": {},
   "outputs": [
    {
     "name": "stdout",
     "output_type": "stream",
     "text": [
      "0.22693384\n",
      "0.14468648\n",
      "0.1034659\n",
      "0.080657065\n",
      "0.06687881\n",
      "0.05631097\n",
      "0.048767664\n",
      "0.0419634\n",
      "0.036465622\n",
      "0.031330314\n",
      "0.026133599\n",
      "0.022396175\n",
      "0.020313382\n",
      "0.018126583\n",
      "0.015984038\n",
      "0.014347036\n",
      "0.0130234705\n",
      "0.012619622\n",
      "0.0118868565\n",
      "0.011254537\n"
     ]
    },
    {
     "data": {
      "image/png": "[encoded data removed]",
      "text/plain": [
       "<matplotlib.figure.Figure at 0x7efdb8c5b1d0>"
      ]
     },
     "metadata": {},
     "output_type": "display_data"
    }
   ],
   "source": [
    "epochs = 20\n",
    "batchsize = 100\n",
    "errors = []\n",
    "for i in range(epochs):\n",
    "    for start, end in zip(range(0, len(trX), batchsize), range(batchsize, len(trX), batchsize)):\n",
    "        batch = trX[start:end]\n",
    "        cur_w = sess.run(update_w, feed_dict={v0: batch, W: prv_w, vb: prv_vb, hb: prv_hb})\n",
    "        cur_vb = sess.run(update_vb, feed_dict={v0: batch, W: prv_w, vb: prv_vb, hb: prv_hb})\n",
    "        cur_hb = sess.run(update_hb, feed_dict={v0: batch, W: prv_w, vb: prv_vb, hb: prv_hb})\n",
    "        prv_w = cur_w\n",
    "        prv_vb = cur_vb\n",
    "        prv_hb = cur_hb\n",
    "    errors.append(sess.run(err_sum, feed_dict={v0: trX, W: cur_w, vb: cur_vb, hb: cur_hb}))\n",
    "    print(errors[-1])\n",
    "plt.plot(errors)\n",
    "plt.ylabel('Error')\n",
    "plt.xlabel('Epoch')\n",
    "plt.show()"
   ]
  }
 ],
 "metadata": {
  "kernelspec": {
   "display_name": "Python 3",
   "language": "python",
   "name": "python3"
  },
  "language_info": {
   "codemirror_mode": {
    "name": "ipython",
    "version": 3
   },
   "file_extension": ".py",
   "mimetype": "text/x-python",
   "name": "python",
   "nbconvert_exporter": "python",
   "pygments_lexer": "ipython3",
   "version": "3.5.2"
  }
 },
 "nbformat": 4,
 "nbformat_minor": 2
}
